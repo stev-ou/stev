{
 "cells": [
  {
   "cell_type": "code",
   "execution_count": 1,
   "metadata": {},
   "outputs": [],
   "source": [
    "from flask import Flask, jsonify, request\n",
    "from data_loader import update_database\n",
    "from mongo import mongo_driver\n",
    "import pprint\n",
    "import pandas as pd\n",
    "\n",
    "# Establish a database connection \n",
    "DB_NAME = \"reviews-db\"\n",
    "COLLECTION_NAME = \"reviews-collection\"\n",
    "\n",
    "db = mongo_driver()\n",
    "db_coll = db.get_db_collection(DB_NAME, COLLECTION_NAME)\n"
   ]
  },
  {
   "cell_type": "code",
   "execution_count": 12,
   "metadata": {},
   "outputs": [
    {
     "name": "stdout",
     "output_type": "stream",
     "text": [
      "0      -1\n",
      "10     -1\n",
      "100    -1\n",
      "1000   -1\n",
      "1005   -1\n",
      "1020    0\n",
      "105    -1\n",
      "1065    0\n",
      "1070    0\n",
      "1075    0\n",
      "1080    0\n",
      "1085    0\n",
      "1090    0\n",
      "1095    0\n",
      "110    -1\n",
      "1100    0\n",
      "1130    0\n",
      "1135    0\n",
      "1140    0\n",
      "115    -1\n",
      "1160    0\n",
      "1165    0\n",
      "1170    0\n",
      "1175    0\n",
      "1180    0\n",
      "1185    0\n",
      "1190    0\n",
      "1195    0\n",
      "120    -1\n",
      "1215    0\n",
      "       ..\n",
      "795    -1\n",
      "80     -1\n",
      "800    -1\n",
      "805    -1\n",
      "810    -1\n",
      "820    -1\n",
      "835    -1\n",
      "845    -1\n",
      "855    -1\n",
      "880    -1\n",
      "885    -1\n",
      "890    -1\n",
      "895    -1\n",
      "90     -1\n",
      "900    -1\n",
      "915    -1\n",
      "935    -1\n",
      "940    -1\n",
      "945    -1\n",
      "95     -1\n",
      "950    -1\n",
      "955    -1\n",
      "960    -1\n",
      "965    -1\n",
      "970    -1\n",
      "975    -1\n",
      "980    -1\n",
      "985    -1\n",
      "990    -1\n",
      "995    -1\n",
      "Name: Queryable Course String, Length: 216, dtype: int64\n"
     ]
    }
   ],
   "source": [
    "# Find the query in the collection\n",
    "test_data = db_coll.find_one({'term_and_name':'Aggregated_gcoe_sp18'})\n",
    "test_data['Aggregated_gcoe_sp18']\n",
    "# pprint.pprint(test_data)\n",
    "# Expand the cursor and construct the DataFrame\n",
    "# df =  pd.DataFrame(test_data['Aggregated_gcoe_sp18']))\n",
    "df = pd.DataFrame.from_records(test_data['Aggregated_gcoe_sp18']).transpose()\n",
    "# Delete the _id\n",
    "# del df['_id']\n",
    "df.columns\n",
    "\n",
    "sub = 'ECE'\n",
    "print(df[\"Queryable Course String\"].str.find(sub))\n"
   ]
  }
 ],
 "metadata": {
  "kernelspec": {
   "display_name": "student-reviews",
   "language": "python",
   "name": "student-reviews"
  },
  "language_info": {
   "codemirror_mode": {
    "name": "ipython",
    "version": 3
   },
   "file_extension": ".py",
   "mimetype": "text/x-python",
   "name": "python",
   "nbconvert_exporter": "python",
   "pygments_lexer": "ipython3",
   "version": "3.6.6"
  }
 },
 "nbformat": 4,
 "nbformat_minor": 2
}
