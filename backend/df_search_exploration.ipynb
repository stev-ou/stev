{
 "cells": [
  {
   "cell_type": "code",
   "execution_count": 1,
   "metadata": {},
   "outputs": [],
   "source": [
    "from flask import Flask, jsonify, request\n",
    "from data_loader import update_database\n",
    "from mongo import mongo_driver\n",
    "import pprint\n",
    "import pandas as pd\n",
    "\n",
    "# Establish a database connection \n",
    "DB_NAME = \"reviews-db\"\n",
    "COLLECTION_NAME = \"reviews-collection\"\n",
    "\n",
    "db = mongo_driver()\n",
    "db_coll = db.get_db_collection(DB_NAME, COLLECTION_NAME)\n"
   ]
  },
  {
   "cell_type": "code",
   "execution_count": 2,
   "metadata": {},
   "outputs": [
    {
     "data": {
      "text/plain": [
       "Index(['Avg Course Rating', 'Avg Department Rating',\n",
       "       'Avg Instructor Rating In Section', 'College Code', 'Course Number',\n",
       "       'Course Title', 'Instructor First Name', 'Instructor ID',\n",
       "       'Instructor Last Name', 'Num Responses', 'Queryable Course String',\n",
       "       'SD Course Rating', 'SD Department Rating',\n",
       "       'SD Instructor Rating In Section', 'Subject Code', 'Term Code'],\n",
       "      dtype='object')"
      ]
     },
     "execution_count": 2,
     "metadata": {},
     "output_type": "execute_result"
    }
   ],
   "source": [
    "# Find the query in the collection\n",
    "test_data = db_coll.find_one({'term_and_name':'Aggregated_gcoe_sp18'})\n",
    "test_data['Aggregated_gcoe_sp18']\n",
    "# pprint.pprint(test_data)\n",
    "# Expand the cursor and construct the DataFrame\n",
    "# df =  pd.DataFrame(test_data['Aggregated_gcoe_sp18']))\n",
    "df = pd.DataFrame.from_records(test_data['Aggregated_gcoe_sp18']).transpose()\n",
    "# Delete the _id\n",
    "# del df['_id']\n",
    "df.columns\n"
   ]
  }
 ],
 "metadata": {
  "kernelspec": {
   "display_name": "student-reviews",
   "language": "python",
   "name": "student-reviews"
  },
  "language_info": {
   "codemirror_mode": {
    "name": "ipython",
    "version": 3
   },
   "file_extension": ".py",
   "mimetype": "text/x-python",
   "name": "python",
   "nbconvert_exporter": "python",
   "pygments_lexer": "ipython3",
   "version": "3.6.6"
  }
 },
 "nbformat": 4,
 "nbformat_minor": 2
}
