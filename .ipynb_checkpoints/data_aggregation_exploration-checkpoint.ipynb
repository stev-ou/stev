{
 "cells": [
  {
   "cell_type": "markdown",
   "metadata": {},
   "source": [
    "<h1> Investigation of Data Aggregation in Pandas"
   ]
  },
  {
   "cell_type": "code",
   "execution_count": 11,
   "metadata": {},
   "outputs": [
    {
     "name": "stdout",
     "output_type": "stream",
     "text": [
      "Index(['Term Code', 'College Code', 'Department Code', 'CRN', 'Campus Code',\n",
      "       'Subject Code', 'Course Number', 'Section Number', 'Section Title',\n",
      "       'Instructor 1 ID', 'Instructor 1 First Name', 'Instructor 1 Last Name',\n",
      "       'Question Number', 'Question', 'Mean', 'Median', 'Standard Deviation',\n",
      "       'Department Mean', 'Department Median', 'Similar College Mean',\n",
      "       'Similar College Median', 'College Mean', 'College Median',\n",
      "       'Percent Rank - Department', 'Percent Rank - College', 'Responses',\n",
      "       'Percent #1', 'Percent #2', 'Percent #3', 'Percent #4', 'Percent #5',\n",
      "       'ZScore - College', 'ZScore - College Similar Sections', 'Course Level',\n",
      "       'Section Size'],\n",
      "      dtype='object')\n"
     ]
    }
   ],
   "source": [
    "# Load the data into the pandas dataframe\n",
    "import pandas as pd\n",
    "\n",
    "\n",
    "df = pd.read_csv(\"data_sp18.csv\") # Modify to correct data location\n",
    "# print(df.head())\n",
    "print(df.columns)\n",
    "# help(df)"
   ]
  },
  {
   "cell_type": "code",
   "execution_count": 29,
   "metadata": {},
   "outputs": [
    {
     "name": "stdout",
     "output_type": "stream",
     "text": [
      "10\n",
      "Index(['Term Code', 'College Code', 'Subject Code', 'Course Number',\n",
      "       'Section Number', 'Section Title', 'Instructor 1 ID',\n",
      "       'Instructor 1 First Name', 'Instructor 1 Last Name',\n",
      "       'Similar College Median'],\n",
      "      dtype='object')\n",
      "12\n"
     ]
    }
   ],
   "source": [
    "# Initialize the aggregated dataframe by copying the base data frame\n",
    "ag_df = df.copy()\n",
    "\n",
    "# Drop the unnecessary columns\n",
    "ag_df = ag_df.drop(['Department Code', 'Question Number', 'CRN','Campus Code','Question', 'Mean', 'Median', 'Standard Deviation', 'Department Mean', 'Department Median', 'Similar College Mean', 'College Mean', 'College Median', 'Percent Rank - Department', 'Percent Rank - College', 'Responses', 'Percent #1', 'Percent #2', 'Percent #3', 'Percent #4', 'Percent #5', 'ZScore - College', 'ZScore - College Similar Sections', 'Course Level', 'Section Size'], axis=1)\n",
    "print(len(ag_df.columns))\n",
    "print(ag_df.columns)\n",
    "\n",
    "# Add in the columns to be filled with the aggregated values\n",
    "ag_df.insert(3,'Avg Department Rating', 0)\n",
    "ag_df.insert(4,'SD Department Rating', 0)\n",
    "ag_df.insert(7,'Avg Course Rating', 0)\n",
    "ag_df.insert(7,'SD Course Rating', 0)\n",
    "print(len(ag_df.columns))\n"
   ]
  },
  {
   "cell_type": "code",
   "execution_count": 8,
   "metadata": {},
   "outputs": [
    {
     "data": {
      "text/plain": [
       "{'EN00': 'ENGR', 'EN01': 'AME', 'EN02': 'CH E', 'EN03': 'CEES'}"
      ]
     },
     "execution_count": 8,
     "metadata": {},
     "output_type": "execute_result"
    }
   ],
   "source": [
    "import yaml\n",
    "with open('mappings.yaml') as f:\n",
    "    # use safe_load instead load\n",
    "    mappings = yaml.safe_load(f)\n",
    "Term_code_dict = mappings['Term_code_dict']\n",
    "College_code_dict = mappings['College_code_dict']\n",
    "Department_code_dict = mappings['Department_code_dict']\n",
    "Department_code_dict\n"
   ]
  }
 ],
 "metadata": {
  "kernelspec": {
   "display_name": "student_reviews",
   "language": "python",
   "name": "student_reviews"
  },
  "language_info": {
   "codemirror_mode": {
    "name": "ipython",
    "version": 3
   },
   "file_extension": ".py",
   "mimetype": "text/x-python",
   "name": "python",
   "nbconvert_exporter": "python",
   "pygments_lexer": "ipython3",
   "version": "3.6.6"
  }
 },
 "nbformat": 4,
 "nbformat_minor": 2
}
